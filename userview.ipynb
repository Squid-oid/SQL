{
 "cells": [
  {
   "cell_type": "markdown",
   "id": "2524dcc5",
   "metadata": {},
   "source": [
    "### This file runs the example of a user gui\n",
    "This file creates a gui that hooks into a python backend which generates mySQL commands dynamically to fetch data on users, gyms and climbing walls. As before to run this file you will need a local mySQL80 server and to have set up a .env file with credentials. \n",
    "Additionaly you will have to have run the fillDB script first.\n",
    "\n",
    "I'm using tkinter for this to keep things simple, the tkinter window is constructed and run in this file, but it uses functions from the queryFuncs file."
   ]
  },
  {
   "cell_type": "code",
   "execution_count": 2,
   "id": "a3a3e237",
   "metadata": {},
   "outputs": [
    {
     "ename": "TclError",
     "evalue": "invalid command name \".!toplevel.!text\"",
     "output_type": "error",
     "traceback": [
      "\u001b[31m---------------------------------------------------------------------------\u001b[39m",
      "\u001b[31mTclError\u001b[39m                                  Traceback (most recent call last)",
      "\u001b[36mCell\u001b[39m\u001b[36m \u001b[39m\u001b[32mIn[2]\u001b[39m\u001b[32m, line 18\u001b[39m\n\u001b[32m     15\u001b[39m pageContainer.pack(side = \u001b[33m\"\u001b[39m\u001b[33mtop\u001b[39m\u001b[33m\"\u001b[39m, fill = \u001b[33m\"\u001b[39m\u001b[33mboth\u001b[39m\u001b[33m\"\u001b[39m,  expand=\u001b[38;5;28;01mTrue\u001b[39;00m)\n\u001b[32m     17\u001b[39m \u001b[38;5;66;03m# Generate our pages into the pageContainer\u001b[39;00m\n\u001b[32m---> \u001b[39m\u001b[32m18\u001b[39m frontPage = front_page(pageContainer, \u001b[33m\"\u001b[39m\u001b[33mFront Page\u001b[39m\u001b[33m\"\u001b[39m)\n\u001b[32m     19\u001b[39m wallPage = wall_page(pageContainer, \u001b[33m\"\u001b[39m\u001b[33mWall Page\u001b[39m\u001b[33m\"\u001b[39m)\n\u001b[32m     20\u001b[39m userPage = user_page(pageContainer, \u001b[33m\"\u001b[39m\u001b[33mUser Page\u001b[39m\u001b[33m\"\u001b[39m)\n",
      "\u001b[36mFile \u001b[39m\u001b[32mc:\\Users\\osc16\\Desktop\\SQL\\app_views.py:60\u001b[39m, in \u001b[36mfront_page.__init__\u001b[39m\u001b[34m(self, root, title)\u001b[39m\n\u001b[32m     57\u001b[39m \u001b[38;5;28mself\u001b[39m.info.pack(expand=\u001b[38;5;28;01mTrue\u001b[39;00m)\n\u001b[32m     59\u001b[39m \u001b[38;5;28mself\u001b[39m.infoFrame.pack()\n\u001b[32m---> \u001b[39m\u001b[32m60\u001b[39m \u001b[38;5;28mself\u001b[39m.createUserSubframe()\n",
      "\u001b[36mFile \u001b[39m\u001b[32mc:\\Users\\osc16\\Desktop\\SQL\\app_views.py:73\u001b[39m, in \u001b[36mfront_page.createUserSubframe\u001b[39m\u001b[34m(self)\u001b[39m\n\u001b[32m     70\u001b[39m \u001b[38;5;28mself\u001b[39m.userText.pack(side=\u001b[33m'\u001b[39m\u001b[33mtop\u001b[39m\u001b[33m'\u001b[39m, pady=\u001b[32m0.1\u001b[39m)\n\u001b[32m     72\u001b[39m \u001b[38;5;66;03m# Create the user list and let it store the currently selected user\u001b[39;00m\n\u001b[32m---> \u001b[39m\u001b[32m73\u001b[39m \u001b[38;5;28mself\u001b[39m.users = \u001b[38;5;28mself\u001b[39m.autoQuery.getUsers(full=\u001b[38;5;28;01mFalse\u001b[39;00m)\n\u001b[32m     74\u001b[39m \u001b[38;5;28mself\u001b[39m.userdrop = tk.OptionMenu(\u001b[38;5;28mself\u001b[39m.userSubFrame, variable= \u001b[38;5;28mself\u001b[39m.manager.getUser(), value=\u001b[33m'\u001b[39m\u001b[33m'\u001b[39m) \u001b[38;5;66;03m# type: ignore\u001b[39;00m\n\u001b[32m     76\u001b[39m \u001b[38;5;28;01mfor\u001b[39;00m user, \u001b[38;5;28mid\u001b[39m \u001b[38;5;129;01min\u001b[39;00m \u001b[38;5;28mzip\u001b[39m(\u001b[38;5;28mself\u001b[39m.users.values, \u001b[38;5;28mself\u001b[39m.users.index): \u001b[38;5;66;03m# type: ignore \u001b[39;00m\n",
      "\u001b[36mFile \u001b[39m\u001b[32mc:\\Users\\osc16\\Desktop\\SQL\\db_funcs.py:192\u001b[39m, in \u001b[36mautoQuery.getUsers\u001b[39m\u001b[34m(self, full)\u001b[39m\n\u001b[32m    191\u001b[39m \u001b[38;5;28;01mdef\u001b[39;00m\u001b[38;5;250m \u001b[39m\u001b[34mgetUsers\u001b[39m(\u001b[38;5;28mself\u001b[39m, full = \u001b[38;5;28;01mFalse\u001b[39;00m):\n\u001b[32m--> \u001b[39m\u001b[32m192\u001b[39m     \u001b[38;5;28;01mif\u001b[39;00m \u001b[38;5;129;01mnot\u001b[39;00m full: \u001b[38;5;28;01mreturn\u001b[39;00m \u001b[38;5;28mself\u001b[39m.mC.execute(\u001b[33m\"\u001b[39m\u001b[33mSELECT id, email FROM users\u001b[39m\u001b[33m\"\u001b[39m)\n\u001b[32m    193\u001b[39m     \u001b[38;5;28;01melse\u001b[39;00m: \u001b[38;5;28;01mreturn\u001b[39;00m \u001b[38;5;28mself\u001b[39m.mC.execute(\u001b[33m\"\u001b[39m\u001b[33mSELECT * FROM users\u001b[39m\u001b[33m\"\u001b[39m)\n",
      "\u001b[36mFile \u001b[39m\u001b[32mc:\\Users\\osc16\\Desktop\\SQL\\db_funcs.py:20\u001b[39m, in \u001b[36mmanagedConnection.execute\u001b[39m\u001b[34m(self, query, returnType)\u001b[39m\n\u001b[32m     17\u001b[39m \u001b[38;5;28;01mdef\u001b[39;00m\u001b[38;5;250m \u001b[39m\u001b[34mexecute\u001b[39m(\u001b[38;5;28mself\u001b[39m, query, returnType = \u001b[33m'\u001b[39m\u001b[33mdf\u001b[39m\u001b[33m'\u001b[39m):\n\u001b[32m     18\u001b[39m     \u001b[38;5;66;03m# Track\u001b[39;00m\n\u001b[32m     19\u001b[39m     \u001b[38;5;28;01mif\u001b[39;00m \u001b[38;5;129;01mnot\u001b[39;00m \u001b[38;5;28mself\u001b[39m.cmdTracker \u001b[38;5;129;01mis\u001b[39;00m \u001b[38;5;28;01mNone\u001b[39;00m:\n\u001b[32m---> \u001b[39m\u001b[32m20\u001b[39m         \u001b[38;5;28mself\u001b[39m.cmdTracker.track(query)\n\u001b[32m     22\u001b[39m     \u001b[38;5;66;03m# Generate cursor, execute query, get results.\u001b[39;00m\n\u001b[32m     23\u001b[39m     cursor = \u001b[38;5;28mself\u001b[39m.cnxn.cursor()\n",
      "\u001b[36mFile \u001b[39m\u001b[32mc:\\Users\\osc16\\Desktop\\SQL\\app_views.py:426\u001b[39m, in \u001b[36msql_viewer.track\u001b[39m\u001b[34m(self, str)\u001b[39m\n\u001b[32m    424\u001b[39m \u001b[38;5;28;01mdef\u001b[39;00m\u001b[38;5;250m \u001b[39m\u001b[34mtrack\u001b[39m(\u001b[38;5;28mself\u001b[39m, \u001b[38;5;28mstr\u001b[39m):\n\u001b[32m    425\u001b[39m     \u001b[38;5;28mself\u001b[39m.stringHistory.append(\u001b[38;5;28mstr\u001b[39m)\n\u001b[32m--> \u001b[39m\u001b[32m426\u001b[39m     \u001b[38;5;28mself\u001b[39m.textdisp.delete(\u001b[33m\"\u001b[39m\u001b[33m1.0\u001b[39m\u001b[33m\"\u001b[39m, tk.END)\n\u001b[32m    427\u001b[39m     \u001b[38;5;28mself\u001b[39m.textdisp.insert(\u001b[33m\"\u001b[39m\u001b[33m1.0\u001b[39m\u001b[33m\"\u001b[39m, \u001b[38;5;28mstr\u001b[39m)\n\u001b[32m    428\u001b[39m     \u001b[38;5;28mself\u001b[39m.idx = \u001b[38;5;28mlen\u001b[39m(\u001b[38;5;28mself\u001b[39m.stringHistory) - \u001b[32m1\u001b[39m\n",
      "\u001b[36mFile \u001b[39m\u001b[32mc:\\Users\\osc16\\miniconda3\\envs\\database\\Lib\\tkinter\\__init__.py:3826\u001b[39m, in \u001b[36mText.delete\u001b[39m\u001b[34m(self, index1, index2)\u001b[39m\n\u001b[32m   3824\u001b[39m \u001b[38;5;28;01mdef\u001b[39;00m\u001b[38;5;250m \u001b[39m\u001b[34mdelete\u001b[39m(\u001b[38;5;28mself\u001b[39m, index1, index2=\u001b[38;5;28;01mNone\u001b[39;00m):\n\u001b[32m   3825\u001b[39m \u001b[38;5;250m    \u001b[39m\u001b[33;03m\"\"\"Delete the characters between INDEX1 and INDEX2 (not included).\"\"\"\u001b[39;00m\n\u001b[32m-> \u001b[39m\u001b[32m3826\u001b[39m     \u001b[38;5;28mself\u001b[39m.tk.call(\u001b[38;5;28mself\u001b[39m._w, \u001b[33m'\u001b[39m\u001b[33mdelete\u001b[39m\u001b[33m'\u001b[39m, index1, index2)\n",
      "\u001b[31mTclError\u001b[39m: invalid command name \".!toplevel.!text\""
     ]
    }
   ],
   "source": [
    "import tkinter as tk\n",
    "from app_views import *\n",
    "from db_funcs import *\n",
    "\n",
    "# Create the window\n",
    "root = tk.Tk()\n",
    "tk.Entry(root, justify='center')\n",
    "root.title(\"User side App\")\n",
    "root.geometry('1280x640')\n",
    "\n",
    "# Create a holder for our pages\n",
    "pageContainer = tk.Frame(root)\n",
    "pageContainer.grid_rowconfigure(0, weight=1)\n",
    "pageContainer.grid_columnconfigure(0, weight=1)\n",
    "pageContainer.pack(side = \"top\", fill = \"both\",  expand=True)\n",
    "\n",
    "# Generate our pages into the pageContainer\n",
    "frontPage = front_page(pageContainer, \"Front Page\")\n",
    "wallPage = wall_page(pageContainer, \"Wall Page\")\n",
    "userPage = user_page(pageContainer, \"User Page\")\n",
    "\n",
    "# Generate the sql debug window\n",
    "sqlViewer = sql_viewer(root)\n",
    "\n",
    "# Create menu for page swapping and configure\n",
    "menu = tk.Menu(root)\n",
    "menu.add_command(label='Front Page', command = frontPage.on_show)\n",
    "menu.add_command(label='Wall Page', command = wallPage.on_show)\n",
    "menu.add_command(label='User Page', command = userPage.on_show)\n",
    "\n",
    "root.config(menu = menu)\n",
    "\n",
    "# Bring the window online\n",
    "frontPage.on_show()\n",
    "root.mainloop()"
   ]
  }
 ],
 "metadata": {
  "kernelspec": {
   "display_name": "database",
   "language": "python",
   "name": "python3"
  },
  "language_info": {
   "codemirror_mode": {
    "name": "ipython",
    "version": 3
   },
   "file_extension": ".py",
   "mimetype": "text/x-python",
   "name": "python",
   "nbconvert_exporter": "python",
   "pygments_lexer": "ipython3",
   "version": "3.13.5"
  }
 },
 "nbformat": 4,
 "nbformat_minor": 5
}
