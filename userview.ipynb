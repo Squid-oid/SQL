{
 "cells": [
  {
   "cell_type": "markdown",
   "id": "2524dcc5",
   "metadata": {},
   "source": [
    "### This file runs the example of a user gui\n",
    "I'm using tkinter for this to keep things simple, the tkinter window is constructed and run in this file, but it uses functions from the queryFuncs file."
   ]
  },
  {
   "cell_type": "code",
   "execution_count": null,
   "id": "a3a3e237",
   "metadata": {},
   "outputs": [],
   "source": [
    "import tkinter as tk\n",
    "from app_views import *\n",
    "from db_funcs import *\n",
    "\n",
    "# Create the window\n",
    "root = tk.Tk()\n",
    "tk.Entry(root, justify='center')\n",
    "root.title(\"User side App\")\n",
    "root.geometry('1280x640')\n",
    "\n",
    "# Create a holder for our pages\n",
    "pageContainer = tk.Frame(root)\n",
    "pageContainer.grid_rowconfigure(0, weight=1)\n",
    "pageContainer.grid_columnconfigure(0, weight=1)\n",
    "pageContainer.pack(side = \"top\", fill = \"both\",  expand=True)\n",
    "\n",
    "# Generate our pages into the paegContainer\n",
    "frontPage = front_page(pageContainer, \"Front Page\")\n",
    "wallPage = wall_page(pageContainer, \"Wall Page\")\n",
    "\n",
    "# Generate the sql debug window\n",
    "sqlViewer = sql_viewer(root)\n",
    "\n",
    "# Create menu for page swapping and configure\n",
    "menu = tk.Menu(root)\n",
    "menu.add_command(label='Front Page', command = frontPage.on_show)\n",
    "menu.add_command(label='Wall Page', command = wallPage.on_show)\n",
    "\n",
    "root.config(menu = menu)\n",
    "\n",
    "# Bring the window online\n",
    "frontPage.on_show()\n",
    "root.mainloop()"
   ]
  }
 ],
 "metadata": {
  "kernelspec": {
   "display_name": "database",
   "language": "python",
   "name": "python3"
  },
  "language_info": {
   "codemirror_mode": {
    "name": "ipython",
    "version": 3
   },
   "file_extension": ".py",
   "mimetype": "text/x-python",
   "name": "python",
   "nbconvert_exporter": "python",
   "pygments_lexer": "ipython3",
   "version": "3.13.5"
  }
 },
 "nbformat": 4,
 "nbformat_minor": 5
}
